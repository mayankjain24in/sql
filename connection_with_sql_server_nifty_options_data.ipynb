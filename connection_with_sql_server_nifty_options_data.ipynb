{
 "cells": [
  {
   "cell_type": "code",
   "execution_count": 1,
   "metadata": {},
   "outputs": [],
   "source": [
    "import pandas as pd\n",
    "import pyodbc\n",
    "import datetime as dt"
   ]
  },
  {
   "cell_type": "code",
   "execution_count": 2,
   "metadata": {},
   "outputs": [],
   "source": [
    "conn = pyodbc.connect('Driver={SQL Server};'\n",
    "                      'Server=ABANS-DLG-108;'\n",
    "                      'Database=nse;'\n",
    "                      'Trusted_Connection=yes;')\n",
    "cursor = conn.cursor()"
   ]
  },
  {
   "cell_type": "code",
   "execution_count": 4,
   "metadata": {},
   "outputs": [],
   "source": [
    "#cursor = conn.cursor()\n",
    "#df = pd.read_excel(r\"E:\\Options\\BANKNIFTY\\Month and Week Options Data\\test\\1 14-feb-19 - NEW.xlsx\", index_col = False)\n",
    "#df.head(2)"
   ]
  },
  {
   "cell_type": "code",
   "execution_count": 3,
   "metadata": {
    "scrolled": true
   },
   "outputs": [],
   "source": [
    "#query = \"SELECT count(*) from banknifty_options_data_1_min;\"\n",
    "query_time_filter = \"Select * FROM nifty_options_1_min WHERE [Trade_Time] = '14:00:00';\"\n",
    "#df = pd.read_sql(query, conn)\n",
    "df_time_filter = pd.read_sql(query_time_filter, conn)"
   ]
  },
  {
   "cell_type": "code",
   "execution_count": 4,
   "metadata": {},
   "outputs": [
    {
     "data": {
      "text/plain": [
       "Exp_Date              17175\n",
       "Trade_Date_nd_Time    17175\n",
       "Trade_Date            17175\n",
       "Trade_Time            17175\n",
       "Open_Price            17175\n",
       "Close_Price           17175\n",
       "High_Price            17175\n",
       "Low_Price             16983\n",
       "Volume                16983\n",
       "Strike                17175\n",
       "CE_PE                 17175\n",
       "TICKER                17175\n",
       "Data_Source           17175\n",
       "dtype: int64"
      ]
     },
     "execution_count": 4,
     "metadata": {},
     "output_type": "execute_result"
    }
   ],
   "source": [
    "df_time_filter.count(axis = 0)"
   ]
  },
  {
   "cell_type": "code",
   "execution_count": 5,
   "metadata": {},
   "outputs": [],
   "source": [
    "df_time_filter.to_excel(r\"C:\\Users\\mayankj\\Downloads\\New folder (2)\\02-00 PM.xlsx\", index=False)"
   ]
  },
  {
   "cell_type": "code",
   "execution_count": 6,
   "metadata": {},
   "outputs": [],
   "source": [
    "conn.commit()\n",
    "cursor.close()\n",
    "conn.close()"
   ]
  },
  {
   "cell_type": "code",
   "execution_count": null,
   "metadata": {},
   "outputs": [],
   "source": []
  }
 ],
 "metadata": {
  "kernelspec": {
   "display_name": "Python 3",
   "language": "python",
   "name": "python3"
  },
  "language_info": {
   "codemirror_mode": {
    "name": "ipython",
    "version": 3
   },
   "file_extension": ".py",
   "mimetype": "text/x-python",
   "name": "python",
   "nbconvert_exporter": "python",
   "pygments_lexer": "ipython3",
   "version": "3.7.0"
  }
 },
 "nbformat": 4,
 "nbformat_minor": 2
}
